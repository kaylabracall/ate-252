{
 "cells": [
  {
   "cell_type": "code",
   "execution_count": 24,
   "metadata": {},
   "outputs": [
    {
     "name": "stdout",
     "output_type": "stream",
     "text": [
      "Drivers Ages 64-75\n",
      "count    7.000000\n",
      "mean     1.142857\n",
      "std      0.377964\n",
      "min      1.000000\n",
      "25%      1.000000\n",
      "50%      1.000000\n",
      "75%      1.000000\n",
      "max      2.000000\n",
      "Name: 65-74 Year Old Driver Count, dtype: float64\n",
      "\n",
      "Drivers Ages 75+\n",
      "count    6.000000\n",
      "mean     1.166667\n",
      "std      0.408248\n",
      "min      1.000000\n",
      "25%      1.000000\n",
      "50%      1.000000\n",
      "75%      1.000000\n",
      "max      2.000000\n",
      "Name: 75 Plus Year Old Driver Count, dtype: float64\n"
     ]
    }
   ],
   "source": [
    "import pandas as pd\n",
    "import numpy as np\n",
    "import matplotlib as mtp\n",
    "\n",
    "crashes = pd.read_csv('crashtest.csv')\n",
    "#print(crashes.dtypes)\n",
    "timeday = crashes['Hour of Day']\n",
    "#print(time.dtypes)\n",
    "#print(timeday.describe())\n",
    "#timeday.hist(bins=24)\n",
    "#use a lambda function to select only real times (<25 hours)\n",
    "cleancrashes = crashes.loc[lambda crashes: crashes['Hour of Day']<25]\n",
    "#print(cleancrashes['Hour of Day'].describe())\n",
    "#cleancrashes['Hour of Day'].hist(bins=24)\n",
    "cleancrashes_age64to75 = crashes.loc[lambda crashes: crashes['65-74 Year Old Driver Count']>0]\n",
    "print('Drivers Ages 64-75')\n",
    "print(cleancrashes_age64to75['65-74 Year Old Driver Count'].describe())\n",
    "print('')\n",
    "print('Drivers Ages 75+')\n",
    "cleancrashes_age75plus = crashes.loc[lambda crashes: crashes['75 Plus Year Old Driver Count']>0]\n",
    "print(cleancrashes_age75plus['75 Plus Year Old Driver Count'].describe())"
   ]
  },
  {
   "cell_type": "code",
   "execution_count": 32,
   "metadata": {},
   "outputs": [
    {
     "data": {
      "text/plain": [
       "<matplotlib.axes._subplots.AxesSubplot at 0x25a0ae06cc8>"
      ]
     },
     "execution_count": 32,
     "metadata": {},
     "output_type": "execute_result"
    },
    {
     "data": {
      "image/png": "[encoded data removed]",
      "text/plain": [
       "<Figure size 432x288 with 1 Axes>"
      ]
     },
     "metadata": {
      "needs_background": "light"
     },
     "output_type": "display_data"
    }
   ],
   "source": [
    "#create a smaller dataframe with only first dozen or so columns\n",
    "\n",
    "subsetdf = cleancrashes.loc[:,'Crash Record Number' : 'Total Unit Count']\n",
    "#print(subsetdf.dtypes)\n",
    "#counts of accidents by intersection types\n",
    "subsetdf['Intersection Type'].value_counts().plot(kind='barh')"
   ]
  },
  {
   "cell_type": "code",
   "execution_count": null,
   "metadata": {},
   "outputs": [],
   "source": []
  }
 ],
 "metadata": {
  "kernelspec": {
   "display_name": "Python 3",
   "language": "python",
   "name": "python3"
  },
  "language_info": {
   "codemirror_mode": {
    "name": "ipython",
    "version": 3
   },
   "file_extension": ".py",
   "mimetype": "text/x-python",
   "name": "python",
   "nbconvert_exporter": "python",
   "pygments_lexer": "ipython3",
   "version": "3.7.4"
  }
 },
 "nbformat": 4,
 "nbformat_minor": 2
}
