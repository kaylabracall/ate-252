{
 "cells": [
  {
   "cell_type": "markdown",
   "metadata": {},
   "source": [
    "# ATE 252 Final Capstone Project\n",
    "   ### Kayla Bracall Spring 2020"
   ]
  },
  {
   "cell_type": "markdown",
   "metadata": {},
   "source": [
    "This project aims to look at fatality among older drivers, specifically those ages 65 and older. Are older drivers more likely to be involved in a fatal accident? Are drivers 75 and older more likely to be involved in a fatal accident than those aged 65 to 74? What are the most fatal driving conditions for older drivers?"
   ]
  },
  {
   "cell_type": "code",
   "execution_count": 67,
   "metadata": {},
   "outputs": [],
   "source": [
    "import numpy as np\n",
    "import pandas as pd\n",
    "import matplotlib as mpt\n",
    "import csv"
   ]
  },
  {
   "cell_type": "code",
   "execution_count": 205,
   "metadata": {},
   "outputs": [],
   "source": [
    "import matplotlib.pyplot as plt\n",
    "%matplotlib inline"
   ]
  },
  {
   "cell_type": "code",
   "execution_count": 68,
   "metadata": {
    "scrolled": true
   },
   "outputs": [],
   "source": [
    "# set constants \n",
    "TOTAL_CRASHES = 2751551 # full number of crashes, pulled from https://data.pa.gov/Public-Safety/Crash-Incident-Details-CY-1997-Current-Annual-Coun/dc5b-gebx\n",
    "TOTAL_FATALITIES = 30640 # this information was gathered from https://www.penndot.gov/TravelInPA/Safety/Pages/Crash-Facts-and-Statistics.aspx\n",
    "AGED_DRIVER_CRASHES = 398905 # number of crashes involving a driver ages 65 +\n",
    "\n",
    "crashes = pd.read_csv('Capstone_finalproject.csv') # read in csv file that was transformed in OpenRefine \n",
    "# this dataframe only contains drivers 65 and older\n",
    "# additionally, it has changed text columns that were labelled \"Yes\" and \"No\" to 0 and 1 so that the data can be more easily\n",
    "# worked with. This data is from the years 1997 - 2018"
   ]
  },
  {
   "cell_type": "markdown",
   "metadata": {},
   "source": [
    "### Set up data frames to work with:"
   ]
  },
  {
   "cell_type": "code",
   "execution_count": 168,
   "metadata": {},
   "outputs": [],
   "source": [
    "'''Create new data frames of fatal crashes, crashes involving drivers ages 65-74, and crashes involving drivers ages 75+'''\n",
    "\n",
    "# pull out only fatal crashes\n",
    "fatalitiesdf = crashes[crashes['Fatal'] > 0]\n",
    "#print(fatalitiesdf)\n",
    "\n",
    "# create data frame of only drivers age 65 to 74\n",
    "driver_65to74_df = crashes[crashes['Driver 65 - 74 Years Old'] > 0]\n",
    "#print(driver_65to74_df)\n",
    "\n",
    "# create data frame of only drivers 75+\n",
    "driver_75plus_df = crashes[crashes['Driver 75 Plus']> 0]\n",
    "#print(driver_75plus_df)"
   ]
  },
  {
   "cell_type": "code",
   "execution_count": 169,
   "metadata": {},
   "outputs": [
    {
     "name": "stdout",
     "output_type": "stream",
     "text": [
      "How many drivers involved in a crash in the years 1997-2018 were ages 65 to 74?\n",
      "240858\n"
     ]
    }
   ],
   "source": [
    "print('How many drivers involved in a crash in the years 1997-2018 were ages 65 to 74?')\n",
    "print(driver_65to74_df['Crash Record Number'].count()) # from the 65-74 data frame, count crash numbers"
   ]
  },
  {
   "cell_type": "code",
   "execution_count": 170,
   "metadata": {},
   "outputs": [
    {
     "name": "stdout",
     "output_type": "stream",
     "text": [
      "How many drivers involved in a crash in the years 1997-2018 were ages 75 and older?\n",
      "183772\n"
     ]
    }
   ],
   "source": [
    "print('How many drivers involved in a crash in the years 1997-2018 were ages 75 and older?')\n",
    "print(driver_75plus_df['Crash Record Number'].count()) # from the 75 plus data frame, count crash numbers\n"
   ]
  },
  {
   "cell_type": "code",
   "execution_count": 116,
   "metadata": {},
   "outputs": [
    {
     "name": "stdout",
     "output_type": "stream",
     "text": [
      "What is the fatality rate for all drivers?\n",
      "1.1135537738533647 %\n"
     ]
    }
   ],
   "source": [
    "print('What is the fatality rate for all drivers?')\n",
    "total_fatal_percentage = (TOTAL_FATALITIES / TOTAL_CRASHES) *100/\n",
    "print(total_fatal_percentage, '%')"
   ]
  },
  {
   "cell_type": "code",
   "execution_count": 156,
   "metadata": {},
   "outputs": [
    {
     "name": "stdout",
     "output_type": "stream",
     "text": [
      "Of drivers aged 65+, what is the percentage of fatal crashes?\n",
      "1.3725072385655732 %\n"
     ]
    }
   ],
   "source": [
    "fatal_count = fatalitiesdf['Crash Record Number'].count() # shows us that 5745 crashes had a \"Yes\" value for the Fatal column\n",
    "print('Of drivers aged 65+, what is the percentage of fatal crashes?')\n",
    "\n",
    "# since a fatal crash is the boolean value '1,' we can use sum on the fatal column to total all fatal crashes \n",
    "fatal_percentage = (fatal_count/AGED_DRIVER_CRASHES)*100 \n",
    "print(fatal_percentage, '%')"
   ]
  },
  {
   "cell_type": "code",
   "execution_count": 157,
   "metadata": {},
   "outputs": [
    {
     "name": "stdout",
     "output_type": "stream",
     "text": [
      "What is the fatality rate for drivers younger than 65?\n",
      "1.0696466871769064 %\n"
     ]
    }
   ],
   "source": [
    "young_fatal = TOTAL_FATALITIES - fatal_count\n",
    "young_drivers = TOTAL_CRASHES - AGED_DRIVER_CRASHES\n",
    "\n",
    "print('What is the fatality rate for drivers younger than 65?')\n",
    "young_fatal_percentage = (young_fatal/young_drivers)*100\n",
    "print(young_fatal_percentage, '%')"
   ]
  },
  {
   "cell_type": "code",
   "execution_count": 208,
   "metadata": {},
   "outputs": [
    {
     "data": {
      "text/plain": [
       "Text(0.5, 0, 'Age Groups')"
      ]
     },
     "execution_count": 208,
     "metadata": {},
     "output_type": "execute_result"
    },
    {
     "data": {
      "image/png": "[encoded data removed]",
      "text/plain": [
       "<Figure size 432x288 with 1 Axes>"
      ]
     },
     "metadata": {
      "needs_background": "light"
     },
     "output_type": "display_data"
    }
   ],
   "source": [
    "names = ['Total Fatality', 'Older Driver Fatality', 'Younger Driver Fatality']\n",
    "values = [total_fatal_percentage , fatal_percentage, young_fatal_percentage]\n",
    "plt.bar(names, values)\n",
    "plt.title('Fatality Rates')\n",
    "plt.ylabel('Percentage')\n",
    "plt.xlabel('Age Groups')"
   ]
  },
  {
   "cell_type": "markdown",
   "metadata": {},
   "source": [
    "### Findings\n",
    "\n",
    "* The total fatality rate for all drivers is 1.11%\n",
    "* The fatality rate for drivers ages 65 and older is 1.37%\n",
    "* The fatality rate for drivers younger than 65 is 1.07%\n",
    "\n",
    "As such, we can see that older drivers are slightly more likely to be involved in a fatal accident, though whether this difference is statisically signficant would take further analysis.\n",
    "\n",
    "The next question is \"Are drivers 75 and older more likely to be involved in a fatal accident than those ages 65 to 74?\""
   ]
  },
  {
   "cell_type": "code",
   "execution_count": 210,
   "metadata": {},
   "outputs": [
    {
     "name": "stdout",
     "output_type": "stream",
     "text": [
      "Is there a higher fatality chance for drivers aged 75+ vs drivers aged 65-74?\n",
      "\n",
      "Fatality rate for drivers aged 65 to 74:\n",
      "1.1562829551021763 %\n",
      "\n",
      "Fatalilty rate for drivers 75 and older: \n",
      "1.6629301525803712 %\n"
     ]
    }
   ],
   "source": [
    "print('Is there a higher fatality chance for drivers aged 75+ vs drivers aged 65-74?')\n",
    "print('')\n",
    "fatal_65to74 = driver_65to74_df['Fatal'] # pull out fatal crashes for drivers aged 65-74\n",
    "crash_count_65to74 = (driver_65to74_df['Crash Record Number'].count()) # get total crashes for drivers aged 65-74\n",
    "perc_65to74 = (sum(fatal_65to74))/crash_count_65to74*100\n",
    "print('Fatality rate for drivers aged 65 to 74:')\n",
    "print(perc_65to74, '%')\n",
    "\n",
    "print('')\n",
    "print('Fatalilty rate for drivers 75 and older: ')\n",
    "fatal_75plus = driver_75plus_df['Fatal'] # pull out fatal crashes for drivers aged 75 plus\n",
    "crash_count_75plus = (driver_75plus_df['Crash Record Number'].count()) # pull total crashes for drivers aged 75 +\n",
    "perc_75plus = (sum(fatal_75plus))/crash_count_75plus*100\n",
    "print(perc_75plus, '%')"
   ]
  },
  {
   "cell_type": "code",
   "execution_count": 211,
   "metadata": {},
   "outputs": [
    {
     "data": {
      "text/plain": [
       "Text(0.5, 0, 'Age Groupings')"
      ]
     },
     "execution_count": 211,
     "metadata": {},
     "output_type": "execute_result"
    },
    {
     "data": {
      "image/png": "[encoded data removed]",
      "text/plain": [
       "<Figure size 432x288 with 1 Axes>"
      ]
     },
     "metadata": {
      "needs_background": "light"
     },
     "output_type": "display_data"
    }
   ],
   "source": [
    "names = ['Ages 65-74', 'Ages 75+']\n",
    "values = [perc_65to74, perc_75plus]\n",
    "plt.bar(names, values)\n",
    "plt.title('Fatality Rates in Older Drivers')\n",
    "plt.ylabel('Percentage')\n",
    "plt.xlabel('Age Groupings')"
   ]
  },
  {
   "cell_type": "markdown",
   "metadata": {},
   "source": [
    "### Findings\n",
    "\n",
    "We can see that drivers 75 and older are more likely to be involved in a fatal crash than those aged 65-74. Again, determining if this difference is statistically significant would take further analysis. "
   ]
  },
  {
   "cell_type": "markdown",
   "metadata": {},
   "source": [
    "### Additional Analysis \n",
    "\n",
    "What conditions are most fatal to older drivers?"
   ]
  },
  {
   "cell_type": "markdown",
   "metadata": {},
   "source": [
    "### Fatigue"
   ]
  },
  {
   "cell_type": "code",
   "execution_count": 185,
   "metadata": {},
   "outputs": [
    {
     "name": "stdout",
     "output_type": "stream",
     "text": [
      "Total fatalities in older drivers: 5475\n"
     ]
    }
   ],
   "source": [
    "fatal_count = fatalitiesdf['Crash Record Number'].count() # count fatalities \n",
    "print('Total fatalities in older drivers:', fatal_count)"
   ]
  },
  {
   "cell_type": "code",
   "execution_count": 197,
   "metadata": {},
   "outputs": [
    {
     "name": "stdout",
     "output_type": "stream",
     "text": [
      "What percentage of fatal crashes in older drivers are related to fatigue?\n",
      "1.8995433789954337 %\n"
     ]
    }
   ],
   "source": [
    "fatigue_yes = (fatalitiesdf[fatalitiesdf['Fatigue / Asleep']>0]) # pull fatal wrecks in which fatigue was a factor\n",
    "fatigue_count = fatigue_yes['Crash Record Number'].count() # get count of fatigue related fatal crashes\n",
    "fatigue_perc = (fatigue_count/fatal_count)*100\n",
    "print('What percentage of fatal crashes in older drivers are related to fatigue?')\n",
    "print(fatigue_perc, '%')"
   ]
  },
  {
   "cell_type": "markdown",
   "metadata": {},
   "source": [
    "### Road Conditions "
   ]
  },
  {
   "cell_type": "code",
   "execution_count": 212,
   "metadata": {},
   "outputs": [
    {
     "name": "stdout",
     "output_type": "stream",
     "text": [
      "What percentage of fatal crashes in older drivers are related to wet road conditions?\n",
      "13.863013698630136 %\n",
      "\n",
      "What percentage of fatal crashes in older drivers are related to snowy road conditions?\n",
      "2.958904109589041 %\n",
      "\n",
      "What percentage of fatal crashes in older drivers are related to icy road conditions?\n",
      "1.643835616438356 %\n"
     ]
    }
   ],
   "source": [
    "wet_road = fatalitiesdf[fatalitiesdf['Wet Road']>0] # pull out fatal crashes where wet road conditions was a factor\n",
    "wet_count = wet_road['Wet Road'].count() # total crashes where wet road was a factor\n",
    "wet_perc = (wet_count/fatal_count)*100 # calculate percentage \n",
    "\n",
    "# repeat for snow slush and icy road conditions \n",
    "snow_road = fatalitiesdf[fatalitiesdf['Snow Slush Road']>0] \n",
    "snow_count= snow_road['Snow Slush Road'].count()\n",
    "snow_perc = (snow_count/fatal_count)*100\n",
    "icy_road = fatalitiesdf[fatalitiesdf['Icy Road']>0]\n",
    "icy_count = icy_road['Icy Road'].count()\n",
    "icy_perc = (icy_count/fatal_count)*100\n",
    "\n",
    "print('What percentage of fatal crashes in older drivers are related to wet road conditions?')\n",
    "print(wet_perc, '%')\n",
    "print('')\n",
    "print('What percentage of fatal crashes in older drivers are related to snowy road conditions?')\n",
    "print(snow_perc, '%')\n",
    "print('')\n",
    "print('What percentage of fatal crashes in older drivers are related to icy road conditions?')\n",
    "print(icy_perc, '%')"
   ]
  },
  {
   "cell_type": "code",
   "execution_count": 214,
   "metadata": {},
   "outputs": [
    {
     "data": {
      "text/plain": [
       "Text(0.5, 0, 'Road Conditions')"
      ]
     },
     "execution_count": 214,
     "metadata": {},
     "output_type": "execute_result"
    },
    {
     "data": {
      "image/png": "[encoded data removed]",
      "text/plain": [
       "<Figure size 432x288 with 1 Axes>"
      ]
     },
     "metadata": {
      "needs_background": "light"
     },
     "output_type": "display_data"
    }
   ],
   "source": [
    "names = ['Wet Road', 'Snow Slush Road', 'Icy Road']\n",
    "values = [wet_perc, snow_perc, icy_perc]\n",
    "plt.bar(names, values)\n",
    "plt.title('Fatality Rates')\n",
    "plt.ylabel('Percentage')\n",
    "plt.xlabel('Road Conditions')"
   ]
  },
  {
   "cell_type": "markdown",
   "metadata": {},
   "source": [
    "### Seatbelt Usage"
   ]
  },
  {
   "cell_type": "code",
   "execution_count": 201,
   "metadata": {},
   "outputs": [
    {
     "name": "stdout",
     "output_type": "stream",
     "text": [
      "What percentage of fatal crashes in older drivers are related to not wearing a seatbelt?\n",
      "40.84018264840182 %\n"
     ]
    }
   ],
   "source": [
    "unbelted = fatalitiesdf[fatalitiesdf['Unbelted']>0] # pull out fatal crashes where the driver was unbelted\n",
    "unbelted_count = unbelted['Unbelted'].count() # total unbelted count\n",
    "unbelted_perc = (unbelted_count/fatal_count)*100 # calculate percentage \n",
    "\n",
    "print('What percentage of fatal crashes in older drivers are related to not wearing a seatbelt?')\n",
    "print(unbelted_perc, '%')"
   ]
  },
  {
   "cell_type": "markdown",
   "metadata": {},
   "source": [
    "### Alcohol and Drug Use "
   ]
  },
  {
   "cell_type": "code",
   "execution_count": 202,
   "metadata": {},
   "outputs": [
    {
     "name": "stdout",
     "output_type": "stream",
     "text": [
      "What percentage of fatal crashes in older drivers are related to alcohol use by the driver?\n",
      "9.60730593607306 %\n",
      "\n",
      "What percentage of fatal crashes in older drdivers are related to drug use by the driver?\n",
      "3.5981735159817356 %\n"
     ]
    }
   ],
   "source": [
    "alcohol_use = fatalitiesdf[fatalitiesdf['Drinking Driver']>0] # pull out fatal crashes where driver was drinking \n",
    "alcohol_count = alcohol_use['Drinking Driver'].count() # total drinking driver count \n",
    "alcohol_perc = (alcohol_count/fatal_count)*100 # calculate percentage \n",
    "print('What percentage of fatal crashes in older drivers are related to alcohol use by the driver?')\n",
    "print(alcohol_perc, '%')\n",
    "print('')\n",
    "\n",
    "drug_use = fatalitiesdf[fatalitiesdf['Drugged Driver']>0] # pull out fatal crashes where driver was drugged \n",
    "drug_count = drug_use['Drugged Driver'].count() # total drugged river \n",
    "drug_perc = (drug_count/fatal_count)*100 # calculate percentage\n",
    "print('What percentage of fatal crashes in older drdivers are related to drug use by the driver?')\n",
    "print(drug_perc, '%')"
   ]
  },
  {
   "cell_type": "code",
   "execution_count": 215,
   "metadata": {},
   "outputs": [
    {
     "data": {
      "text/plain": [
       "Text(0.5, 0, 'Substance Use')"
      ]
     },
     "execution_count": 215,
     "metadata": {},
     "output_type": "execute_result"
    },
    {
     "data": {
      "image/png": "[encoded data removed]",
      "text/plain": [
       "<Figure size 432x288 with 1 Axes>"
      ]
     },
     "metadata": {
      "needs_background": "light"
     },
     "output_type": "display_data"
    }
   ],
   "source": [
    "names = ['Drinking Driver', 'Drugged Driver']\n",
    "values = [alcohol_perc, drug_perc]\n",
    "plt.bar(names, values)\n",
    "plt.title('Fatality Rates in Older Drivers')\n",
    "plt.ylabel('Percentage')\n",
    "plt.xlabel('Substance Use')"
   ]
  },
  {
   "cell_type": "code",
   "execution_count": null,
   "metadata": {},
   "outputs": [],
   "source": []
  }
 ],
 "metadata": {
  "kernelspec": {
   "display_name": "Python 3",
   "language": "python",
   "name": "python3"
  },
  "language_info": {
   "codemirror_mode": {
    "name": "ipython",
    "version": 3
   },
   "file_extension": ".py",
   "mimetype": "text/x-python",
   "name": "python",
   "nbconvert_exporter": "python",
   "pygments_lexer": "ipython3",
   "version": "3.7.4"
  }
 },
 "nbformat": 4,
 "nbformat_minor": 2
}
